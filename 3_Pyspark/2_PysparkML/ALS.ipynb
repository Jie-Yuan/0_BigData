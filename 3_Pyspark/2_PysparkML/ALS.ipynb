{
 "cells": [
  {
   "cell_type": "code",
   "execution_count": 2,
   "metadata": {
    "collapsed": true
   },
   "outputs": [],
   "source": [
    "from pyspark.mllib.recommendation import ALS"
   ]
  },
  {
   "cell_type": "code",
   "execution_count": 4,
   "metadata": {
    "collapsed": false
   },
   "outputs": [],
   "source": [
    "r1 = (1, 1, 1.0)\n",
    "r2 = (2, 2, 2.0)\n",
    "r3 = (3, 3, 2.0)\n",
    "ratings = sc.parallelize([r1, r2, r3])"
   ]
  },
  {
   "cell_type": "code",
   "execution_count": 38,
   "metadata": {
    "collapsed": false
   },
   "outputs": [],
   "source": [
    "# train(ratings, rank, iterations=5, lambda_=0.01, blocks=-1, nonnegative=False, seed=None)\n",
    "# trainImplicit(ratings, rank, iterations=5, lambda_=0.01, blocks=-1, alpha=0.01, nonnegative=False, seed=None)\n",
    "\n",
    "als = ALS()\n",
    "model = als.train(ratings.toDF(),2)\n",
    "model_implict = als.trainImplicit(ratings.toDF().rdd,2)"
   ]
  },
  {
   "cell_type": "code",
   "execution_count": 19,
   "metadata": {
    "collapsed": false
   },
   "outputs": [
    {
     "data": {
      "text/plain": [
       "[(1, array('d', [0.9859884977340698, 0.16121383011341095])),\n",
       " (2, array('d', [-0.6735821962356567, 0.7869735360145569])),\n",
       " (3, array('d', [-0.3163215219974518, -0.9863980412483215]))]"
      ]
     },
     "execution_count": 19,
     "metadata": {},
     "output_type": "execute_result"
    }
   ],
   "source": [
    "# 用户抽象特征\n",
    "model.userFeatures().collect()"
   ]
  },
  {
   "cell_type": "code",
   "execution_count": 9,
   "metadata": {
    "collapsed": false
   },
   "outputs": [
    {
     "data": {
      "text/plain": [
       "[(1, array('d', [0.9778425693511963, 0.15988193452358246])),\n",
       " (2, array('d', [-1.2520878314971924, 1.4628652334213257])),\n",
       " (3, array('d', [-0.5879939794540405, -1.8335652351379395]))]"
      ]
     },
     "execution_count": 9,
     "metadata": {},
     "output_type": "execute_result"
    }
   ],
   "source": [
    "# 产品抽象特征\n",
    "model.productFeatures().collect()"
   ]
  },
  {
   "cell_type": "code",
   "execution_count": 11,
   "metadata": {
    "collapsed": false
   },
   "outputs": [
    {
     "data": {
      "text/plain": [
       "[Rating(user=1, product=1, rating=0.9899167050054973),\n",
       " Rating(user=3, product=1, rating=-0.46701987685612334),\n",
       " Rating(user=2, product=1, rating=-0.5328344940794247)]"
      ]
     },
     "execution_count": 11,
     "metadata": {},
     "output_type": "execute_result"
    }
   ],
   "source": [
    "# 同一产品推荐给top k 用户\n",
    "model.recommendUsers(product=1, num=3)"
   ]
  },
  {
   "cell_type": "code",
   "execution_count": 13,
   "metadata": {
    "collapsed": false
   },
   "outputs": [
    {
     "data": {
      "text/plain": [
       "[Rating(user=1, product=1, rating=0.9899167050054973),\n",
       " Rating(user=1, product=3, rating=-0.8753513747979511),\n",
       " Rating(user=1, product=2, rating=-0.998710092789425)]"
      ]
     },
     "execution_count": 13,
     "metadata": {},
     "output_type": "execute_result"
    }
   ],
   "source": [
    "# 向同一用户推荐top k 产品\n",
    "model.recommendProducts(user=1, num=3)"
   ]
  },
  {
   "cell_type": "code",
   "execution_count": 20,
   "metadata": {
    "collapsed": false
   },
   "outputs": [
    {
     "data": {
      "text/plain": [
       "[(1,\n",
       "  (Rating(user=1, product=1, rating=0.9899167050054973),\n",
       "   Rating(user=1, product=3, rating=-0.8753513747979511),\n",
       "   Rating(user=1, product=2, rating=-0.998710092789425))),\n",
       " (3,\n",
       "  (Rating(user=3, product=3, rating=1.994620306947322),\n",
       "   Rating(user=3, product=1, rating=-0.46701987685612334),\n",
       "   Rating(user=3, product=2, rating=-1.0469050723233835))),\n",
       " (2,\n",
       "  (Rating(user=2, product=2, rating=1.9946202968781606),\n",
       "   Rating(user=2, product=1, rating=-0.5328344940794247),\n",
       "   Rating(user=2, product=3, rating=-1.0469050405558704)))]"
      ]
     },
     "execution_count": 20,
     "metadata": {},
     "output_type": "execute_result"
    }
   ],
   "source": [
    "# 用户 => 产品列表\n",
    "model.recommendProductsForUsers(3).collect()"
   ]
  },
  {
   "cell_type": "code",
   "execution_count": 21,
   "metadata": {
    "collapsed": false
   },
   "outputs": [
    {
     "data": {
      "text/plain": [
       "[(1,\n",
       "  (Rating(user=1, product=1, rating=0.9899167050054973),\n",
       "   Rating(user=3, product=1, rating=-0.46701987685612334),\n",
       "   Rating(user=2, product=1, rating=-0.5328344940794247))),\n",
       " (3,\n",
       "  (Rating(user=3, product=3, rating=1.994620306947322),\n",
       "   Rating(user=1, product=3, rating=-0.8753513747979511),\n",
       "   Rating(user=2, product=3, rating=-1.0469050405558704))),\n",
       " (2,\n",
       "  (Rating(user=2, product=2, rating=1.9946202968781606),\n",
       "   Rating(user=1, product=2, rating=-0.998710092789425),\n",
       "   Rating(user=3, product=2, rating=-1.0469050723233835)))]"
      ]
     },
     "execution_count": 21,
     "metadata": {},
     "output_type": "execute_result"
    }
   ],
   "source": [
    "# 产品 => 用户列表\n",
    "model.recommendUsersForProducts(3).collect()"
   ]
  },
  {
   "cell_type": "code",
   "execution_count": null,
   "metadata": {
    "collapsed": true
   },
   "outputs": [],
   "source": [
    "model.predict(1,1)\n",
    "model.predictAll(sc.parallelize([[1,1]])).collect()"
   ]
  },
  {
   "cell_type": "code",
   "execution_count": null,
   "metadata": {
    "collapsed": true
   },
   "outputs": [],
   "source": [
    "# 模型保存、调用\n",
    "model.save(sc,path)\n",
    "MatrixFactorizationModel.load(sc,path)"
   ]
  }
 ],
 "metadata": {
  "anaconda-cloud": {},
  "kernelspec": {
   "display_name": "Python [conda root]",
   "language": "python",
   "name": "conda-root-py"
  },
  "language_info": {
   "codemirror_mode": {
    "name": "ipython",
    "version": 3
   },
   "file_extension": ".py",
   "mimetype": "text/x-python",
   "name": "python",
   "nbconvert_exporter": "python",
   "pygments_lexer": "ipython3",
   "version": "3.5.2"
  },
  "toc": {
   "colors": {
    "hover_highlight": "#DAA520",
    "running_highlight": "#FF0000",
    "selected_highlight": "#FFD700"
   },
   "moveMenuLeft": true,
   "nav_menu": {
    "height": "12px",
    "width": "252px"
   },
   "navigate_menu": true,
   "number_sections": true,
   "sideBar": true,
   "threshold": 4,
   "toc_cell": false,
   "toc_section_display": "block",
   "toc_window_display": false,
   "widenNotebook": false
  }
 },
 "nbformat": 4,
 "nbformat_minor": 1
}
