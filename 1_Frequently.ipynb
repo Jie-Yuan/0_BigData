{
 "cells": [
  {
   "cell_type": "code",
   "execution_count": null,
   "metadata": {
    "collapsed": true
   },
   "outputs": [],
   "source": [
    "# 类似子查询\n",
    "df1 = spark.range(5).withColumn('a', lit(1))\n",
    "df2 = spark.range(2, 7).withColumn('b', lit(2))\n",
    "\n",
    "df1.show()\n",
    "df2.show()\n",
    "\n",
    "\n",
    "# 字段id差集\n",
    "df1.select('id').subtract(df2.select('id')).join(df1,'id').show()\n",
    "\n",
    "# 字段id交集\n",
    "df1.select('id').intersect(df2.select('id')).join(df1,'id').show()"
   ]
  },
  {
   "cell_type": "code",
   "execution_count": null,
   "metadata": {
    "collapsed": true
   },
   "outputs": [],
   "source": [
    "# freqItems\n",
    "df = spark.createDataFrame([(1, 2, 3) if i % 2 == 0 else (i, 2 * i, i % 4) for i in range(100)], [\"a\", \"b\", \"c\"])\n",
    "freq = df.freqItems([\"a\", \"b\", \"c\"], 0.4)\n",
    "freq.show()\n",
    "# 组合的频繁项\n",
    "freq = df.withColumn('ab', F.struct('a', 'b')).freqItems(['ab'], 0.4)\n",
    "freq.show()\n",
    "\n",
    "df.withColumn('ab', array('a', 'b')).freqItems(['ab'], 0.4).show()"
   ]
  },
  {
   "cell_type": "code",
   "execution_count": null,
   "metadata": {
    "collapsed": true
   },
   "outputs": [],
   "source": [
    "# a-b保持顺序不变\n",
    "diffList = lambda a,b: [a[i] for i in np.where([i not in b for i in a])[0]]\n",
    "\n",
    "# 列表去重顺序不变\n",
    "def uniqueList(x):\n",
    "    l = list(set(x))\n",
    "    l.sort(key=x.index)\n",
    "    return l"
   ]
  },
  {
   "cell_type": "code",
   "execution_count": null,
   "metadata": {
    "collapsed": true
   },
   "outputs": [],
   "source": []
  }
 ],
 "metadata": {
  "anaconda-cloud": {},
  "kernelspec": {
   "display_name": "Python [default]",
   "language": "python",
   "name": "python3"
  },
  "language_info": {
   "codemirror_mode": {
    "name": "ipython",
    "version": 3
   },
   "file_extension": ".py",
   "mimetype": "text/x-python",
   "name": "python",
   "nbconvert_exporter": "python",
   "pygments_lexer": "ipython3",
   "version": "3.5.2"
  },
  "toc": {
   "colors": {
    "hover_highlight": "#DAA520",
    "running_highlight": "#FF0000",
    "selected_highlight": "#FFD700"
   },
   "moveMenuLeft": true,
   "nav_menu": {
    "height": "12px",
    "width": "252px"
   },
   "navigate_menu": true,
   "number_sections": true,
   "sideBar": true,
   "threshold": 4,
   "toc_cell": false,
   "toc_section_display": "block",
   "toc_window_display": false,
   "widenNotebook": false
  }
 },
 "nbformat": 4,
 "nbformat_minor": 2
}
